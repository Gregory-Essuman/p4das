{
 "cells": [
  {
   "cell_type": "markdown",
   "id": "4015fa24-13bb-47db-ab09-12fb562f91da",
   "metadata": {},
   "source": [
    "### Introduction to Python"
   ]
  },
  {
   "cell_type": "code",
   "execution_count": 19,
   "id": "886d0bba-4172-46f0-9a55-addedc6e7664",
   "metadata": {},
   "outputs": [
    {
     "name": "stdout",
     "output_type": "stream",
     "text": [
      "Hello World....This is my first python statement\n"
     ]
    }
   ],
   "source": [
    "print(\"Hello World....This is my first python statement\")"
   ]
  },
  {
   "cell_type": "code",
   "execution_count": 20,
   "id": "50aeabf3-30bd-4c23-8ec5-f0daf18ec0e2",
   "metadata": {},
   "outputs": [],
   "source": [
    "# iNTRODUCTION TO STRINGS IN PYTHON\n",
    "\n",
    "course_title = \"Python 4 Data Analysis & Science\""
   ]
  },
  {
   "cell_type": "code",
   "execution_count": 21,
   "id": "19f9414c-fea5-466a-bb98-fbeb05d72865",
   "metadata": {},
   "outputs": [],
   "source": [
    "course_duration = 6.5 # integers"
   ]
  },
  {
   "cell_type": "code",
   "execution_count": 22,
   "id": "5a726bf5-c91a-4913-97bd-5b1a90bf1c68",
   "metadata": {},
   "outputs": [
    {
     "data": {
      "text/plain": [
       "float"
      ]
     },
     "execution_count": 22,
     "metadata": {},
     "output_type": "execute_result"
    }
   ],
   "source": [
    "type(course_duration)"
   ]
  },
  {
   "cell_type": "code",
   "execution_count": null,
   "id": "1cf714d6-8db7-46a5-a589-8a55bbd722fd",
   "metadata": {},
   "outputs": [],
   "source": []
  },
  {
   "cell_type": "code",
   "execution_count": 23,
   "id": "b7855bfe-8910-4584-ad10-7e8a77849235",
   "metadata": {},
   "outputs": [],
   "source": [
    "# Strings\n",
    "# Integers\n",
    "# Floats"
   ]
  },
  {
   "cell_type": "code",
   "execution_count": null,
   "id": "70336cb0-e357-4073-b190-c495a11ec4f7",
   "metadata": {},
   "outputs": [],
   "source": []
  }
 ],
 "metadata": {
  "kernelspec": {
   "display_name": "Python 3 (ipykernel)",
   "language": "python",
   "name": "python3"
  },
  "language_info": {
   "codemirror_mode": {
    "name": "ipython",
    "version": 3
   },
   "file_extension": ".py",
   "mimetype": "text/x-python",
   "name": "python",
   "nbconvert_exporter": "python",
   "pygments_lexer": "ipython3",
   "version": "3.12.4"
  }
 },
 "nbformat": 4,
 "nbformat_minor": 5
}
